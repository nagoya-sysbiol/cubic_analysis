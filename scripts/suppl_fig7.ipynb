{
  "nbformat": 4,
  "nbformat_minor": 0,
  "metadata": {
    "colab": {
      "name": "suppl_fig7.ipynb",
      "provenance": []
    },
    "kernelspec": {
      "name": "ir",
      "display_name": "R"
    },
    "language_info": {
      "name": "R"
    }
  },
  "cells": [
    {
      "cell_type": "markdown",
      "source": [
        "# Supplementary Figure 7"
      ],
      "metadata": {
        "id": "T5HIiKZVsYOu"
      }
    },
    {
      "cell_type": "markdown",
      "source": [
        "## Install and read the R packages"
      ],
      "metadata": {
        "id": "1w8fz_5rstUD"
      }
    },
    {
      "cell_type": "code",
      "execution_count": null,
      "metadata": {
        "colab": {
          "base_uri": "https://localhost:8080/"
        },
        "id": "9kEHT2CqsUu_",
        "outputId": "97fb49d0-ac11-48a4-bfd0-cf649b92667f"
      },
      "outputs": [
        {
          "output_type": "stream",
          "name": "stderr",
          "text": [
            "Installing package into ‘/usr/local/lib/R/site-library’\n",
            "(as ‘lib’ is unspecified)\n",
            "\n",
            "Installing package into ‘/usr/local/lib/R/site-library’\n",
            "(as ‘lib’ is unspecified)\n",
            "\n",
            "also installing the dependency ‘Rcpp’\n",
            "\n",
            "\n",
            "Installing package into ‘/usr/local/lib/R/site-library’\n",
            "(as ‘lib’ is unspecified)\n",
            "\n",
            "Warning message in system(\"timedatectl\", intern = TRUE):\n",
            "“running command 'timedatectl' had status 1”\n",
            "── \u001b[1mAttaching packages\u001b[22m ─────────────────────────────────────── tidyverse 1.3.1 ──\n",
            "\n",
            "\u001b[32m✔\u001b[39m \u001b[34mggplot2\u001b[39m 3.3.6     \u001b[32m✔\u001b[39m \u001b[34mpurrr  \u001b[39m 0.3.4\n",
            "\u001b[32m✔\u001b[39m \u001b[34mtibble \u001b[39m 3.1.7     \u001b[32m✔\u001b[39m \u001b[34mdplyr  \u001b[39m 1.0.9\n",
            "\u001b[32m✔\u001b[39m \u001b[34mtidyr  \u001b[39m 1.2.0     \u001b[32m✔\u001b[39m \u001b[34mstringr\u001b[39m 1.4.0\n",
            "\u001b[32m✔\u001b[39m \u001b[34mreadr  \u001b[39m 2.1.2     \u001b[32m✔\u001b[39m \u001b[34mforcats\u001b[39m 0.5.1\n",
            "\n",
            "── \u001b[1mConflicts\u001b[22m ────────────────────────────────────────── tidyverse_conflicts() ──\n",
            "\u001b[31m✖\u001b[39m \u001b[34mdplyr\u001b[39m::\u001b[32mbetween()\u001b[39m   masks \u001b[34mdata.table\u001b[39m::between()\n",
            "\u001b[31m✖\u001b[39m \u001b[34mdplyr\u001b[39m::\u001b[32mfilter()\u001b[39m    masks \u001b[34mstats\u001b[39m::filter()\n",
            "\u001b[31m✖\u001b[39m \u001b[34mdplyr\u001b[39m::\u001b[32mfirst()\u001b[39m     masks \u001b[34mdata.table\u001b[39m::first()\n",
            "\u001b[31m✖\u001b[39m \u001b[34mdplyr\u001b[39m::\u001b[32mlag()\u001b[39m       masks \u001b[34mstats\u001b[39m::lag()\n",
            "\u001b[31m✖\u001b[39m \u001b[34mdplyr\u001b[39m::\u001b[32mlast()\u001b[39m      masks \u001b[34mdata.table\u001b[39m::last()\n",
            "\u001b[31m✖\u001b[39m \u001b[34mpurrr\u001b[39m::\u001b[32mtranspose()\u001b[39m masks \u001b[34mdata.table\u001b[39m::transpose()\n",
            "\n",
            "\n",
            "Attaching package: ‘gridExtra’\n",
            "\n",
            "\n",
            "The following object is masked from ‘package:dplyr’:\n",
            "\n",
            "    combine\n",
            "\n",
            "\n"
          ]
        }
      ],
      "source": [
        "install.packages(\"data.table\")\n",
        "install.packages(\"TDAstats\")\n",
        "install.packages(\"gridExtra\")\n",
        "library(data.table)\n",
        "library(TDAstats)\n",
        "library(tidyverse)\n",
        "library(gridExtra)"
      ]
    },
    {
      "cell_type": "markdown",
      "source": [
        "## Download and read the persistence diagram data in Supplementary Figure 7"
      ],
      "metadata": {
        "id": "dN49ytAUssLY"
      }
    },
    {
      "cell_type": "code",
      "source": [
        "system(\"wget https://www.dropbox.com/s/zpx9w9wnu3p7n29/persistence_diagram.zip\")\n",
        "system(\"unzip /content/persistence_diagram.zip\")\n",
        "files <- list.files(\"/content/persistence_diagram\",full.names=TRUE)\n",
        "files <- files[grep(\"#144\",files)]\n",
        "file1 <- files[grep(\"pd1\\\\.txt\",files)]\n",
        "file2 <- files[grep(\"pd2\\\\.txt\",files)]"
      ],
      "metadata": {
        "id": "n07corA2s26t"
      },
      "execution_count": null,
      "outputs": []
    },
    {
      "cell_type": "markdown",
      "source": [
        "## Supplementary Figure 7"
      ],
      "metadata": {
        "id": "I-6HuYpEyIRD"
      }
    },
    {
      "cell_type": "code",
      "source": [
        "filename <- c(\"10%\",\"30%\",\"50%\",\"70%\",\"90%\")\n",
        "filename2 <- c(\"10_percent\",\"30_percent\",\"50_percent\",\"70_percent\",\"90_percent\")\n",
        "out1 <- paste0(\"suppl_fig7_\",filename,\".tsv\")\n",
        "out2 <- paste0(\"suppl_fig7_\",filename,\".pdf\")\n",
        "p <- vector(\"list\",length(file1))\n",
        "for(i in 1:length(file1)){\n",
        "  cat(i,\"/\",length(file1),\"\\n\")\n",
        "  junk <- rbind(cbind(1,as.matrix(fread(file1[i],sep=\" \",header=FALSE))),\n",
        "                        cbind(2,as.matrix(fread(file2[i],sep=\" \",header=FALSE))))\n",
        "  colnames(junk) <- c(\"dimension\",\"birth\",\"death\")\n",
        "  id <- which(junk[,2]>junk[,3])\n",
        "  if(length(id)>0) junk <- junk[-id,]\n",
        "  write.table(junk,out1[i],row.names=FALSE,col.names=TRUE,sep=\"\\t\",quote=FALSE)\n",
        "  p[[i]] <- plot_persist(junk) + ggtitle(filename[i]) +\n",
        "            theme(plot.title = element_text(hjust = 0.5)) +\n",
        "            xlim(0,0.03) + ylim(0,0.03)\n",
        "}\n"
      ],
      "metadata": {
        "colab": {
          "base_uri": "https://localhost:8080/"
        },
        "id": "tYK5zBXXjL9B",
        "outputId": "61e388f8-fbad-41ff-f1b1-c3184b304a21"
      },
      "execution_count": null,
      "outputs": [
        {
          "output_type": "stream",
          "name": "stdout",
          "text": [
            "1 / 5 \n"
          ]
        },
        {
          "output_type": "stream",
          "name": "stderr",
          "text": [
            "Scale for 'x' is already present. Adding another scale for 'x', which will\n",
            "replace the existing scale.\n",
            "\n",
            "Scale for 'y' is already present. Adding another scale for 'y', which will\n",
            "replace the existing scale.\n",
            "\n"
          ]
        },
        {
          "output_type": "stream",
          "name": "stdout",
          "text": [
            "2 / 5 \n"
          ]
        },
        {
          "output_type": "stream",
          "name": "stderr",
          "text": [
            "Scale for 'x' is already present. Adding another scale for 'x', which will\n",
            "replace the existing scale.\n",
            "\n",
            "Scale for 'y' is already present. Adding another scale for 'y', which will\n",
            "replace the existing scale.\n",
            "\n"
          ]
        },
        {
          "output_type": "stream",
          "name": "stdout",
          "text": [
            "3 / 5 \n"
          ]
        },
        {
          "output_type": "stream",
          "name": "stderr",
          "text": [
            "Scale for 'x' is already present. Adding another scale for 'x', which will\n",
            "replace the existing scale.\n",
            "\n",
            "Scale for 'y' is already present. Adding another scale for 'y', which will\n",
            "replace the existing scale.\n",
            "\n"
          ]
        },
        {
          "output_type": "stream",
          "name": "stdout",
          "text": [
            "4 / 5 \n"
          ]
        },
        {
          "output_type": "stream",
          "name": "stderr",
          "text": [
            "Scale for 'x' is already present. Adding another scale for 'x', which will\n",
            "replace the existing scale.\n",
            "\n",
            "Scale for 'y' is already present. Adding another scale for 'y', which will\n",
            "replace the existing scale.\n",
            "\n"
          ]
        },
        {
          "output_type": "stream",
          "name": "stdout",
          "text": [
            "5 / 5 \n"
          ]
        },
        {
          "output_type": "stream",
          "name": "stderr",
          "text": [
            "Scale for 'x' is already present. Adding another scale for 'x', which will\n",
            "replace the existing scale.\n",
            "\n",
            "Scale for 'y' is already present. Adding another scale for 'y', which will\n",
            "replace the existing scale.\n",
            "\n"
          ]
        }
      ]
    },
    {
      "cell_type": "code",
      "source": [
        "grid.arrange(p[[1]], p[[2]],\n",
        "p[[3]], p[[4]], p[[5]], nrow = 3)"
      ],
      "metadata": {
        "colab": {
          "base_uri": "https://localhost:8080/",
          "height": 437
        },
        "id": "Z8St4UhJ3dWA",
        "outputId": "969b6ed5-02e0-44a0-f5b1-a5c24e829758"
      },
      "execution_count": null,
      "outputs": [
        {
          "output_type": "display_data",
          "data": {
            "text/plain": [
              "plot without title"
            ],
            "image/png": "[encoded data removed]"
          },
          "metadata": {
            "image/png": {
              "width": 420,
              "height": 420
            }
          }
        }
      ]
    }
  ]
}